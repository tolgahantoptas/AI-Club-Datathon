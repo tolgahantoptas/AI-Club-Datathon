{
 "cells": [
  {
   "cell_type": "raw",
   "id": "3deaa749-6af2-4044-b5c4-eeed055e73f3",
   "metadata": {},
   "source": [
    "import pandas as pd\n",
    "import numpy as np \n",
    "import matplotlib.pyplot as plt \n",
    "import seaborn as sns \n",
    "import scipy.stats as stats\n",
    "from scipy.stats import shapiro, normaltest"
   ]
  },
  {
   "cell_type": "code",
   "execution_count": 106,
   "id": "fa021a35-5fc7-4a90-9519-eb758e01c4a2",
   "metadata": {},
   "outputs": [],
   "source": [
    "pd.set_option('display.max_rows', 100) \n",
    "pd.set_option('display.max_columns', 50) "
   ]
  },
  {
   "cell_type": "markdown",
   "id": "a68754ac-2d05-4628-88a3-9e4173ed9f35",
   "metadata": {},
   "source": [
    "# Keşifsel Veri Analizi "
   ]
  },
  {
   "cell_type": "code",
   "execution_count": 86,
   "id": "1b764791-f400-44cd-980d-884cea7702b1",
   "metadata": {
    "scrolled": true
   },
   "outputs": [
    {
     "data": {
      "text/html": [
       "<div>\n",
       "<style scoped>\n",
       "    .dataframe tbody tr th:only-of-type {\n",
       "        vertical-align: middle;\n",
       "    }\n",
       "\n",
       "    .dataframe tbody tr th {\n",
       "        vertical-align: top;\n",
       "    }\n",
       "\n",
       "    .dataframe thead th {\n",
       "        text-align: right;\n",
       "    }\n",
       "</style>\n",
       "<table border=\"1\" class=\"dataframe\">\n",
       "  <thead>\n",
       "    <tr style=\"text-align: right;\">\n",
       "      <th></th>\n",
       "      <th>date</th>\n",
       "      <th>open</th>\n",
       "      <th>high</th>\n",
       "      <th>low</th>\n",
       "      <th>close</th>\n",
       "    </tr>\n",
       "  </thead>\n",
       "  <tbody>\n",
       "    <tr>\n",
       "      <th>0</th>\n",
       "      <td>\"1355342400000\"</td>\n",
       "      <td>\"6.5931159420289855\"</td>\n",
       "      <td>\"6.594059420289855\"</td>\n",
       "      <td>\"6.5854333333333335\"</td>\n",
       "      <td>NaN</td>\n",
       "    </tr>\n",
       "    <tr>\n",
       "      <th>1</th>\n",
       "      <td>\"1355346000000\"</td>\n",
       "      <td>\"6.590060869565217\"</td>\n",
       "      <td>\"6.593160869565217\"</td>\n",
       "      <td>\"6.581030434782608\"</td>\n",
       "      <td>NaN</td>\n",
       "    </tr>\n",
       "    <tr>\n",
       "      <th>2</th>\n",
       "      <td>\"1355349600000\"</td>\n",
       "      <td>\"6.591004347826087\"</td>\n",
       "      <td>\"6.599405797101449\"</td>\n",
       "      <td>\"6.576357971014493\"</td>\n",
       "      <td>\"6.590465217391304\"</td>\n",
       "    </tr>\n",
       "    <tr>\n",
       "      <th>3</th>\n",
       "      <td>\"1355353200000\"</td>\n",
       "      <td>\"6.591633333333333\"</td>\n",
       "      <td>\"6.594463768115943\"</td>\n",
       "      <td>\"6.587230434782608\"</td>\n",
       "      <td>\"6.591678260869565\"</td>\n",
       "    </tr>\n",
       "    <tr>\n",
       "      <th>4</th>\n",
       "      <td>\"1355356800000\"</td>\n",
       "      <td>\"6.592172463768116\"</td>\n",
       "      <td>\"6.594688405797101\"</td>\n",
       "      <td>\"6.586376811594203\"</td>\n",
       "      <td>\"6.59131884057971\"</td>\n",
       "    </tr>\n",
       "  </tbody>\n",
       "</table>\n",
       "</div>"
      ],
      "text/plain": [
       "              date                  open                 high  \\\n",
       "0  \"1355342400000\"  \"6.5931159420289855\"  \"6.594059420289855\"   \n",
       "1  \"1355346000000\"   \"6.590060869565217\"  \"6.593160869565217\"   \n",
       "2  \"1355349600000\"   \"6.591004347826087\"  \"6.599405797101449\"   \n",
       "3  \"1355353200000\"   \"6.591633333333333\"  \"6.594463768115943\"   \n",
       "4  \"1355356800000\"   \"6.592172463768116\"  \"6.594688405797101\"   \n",
       "\n",
       "                    low                close  \n",
       "0  \"6.5854333333333335\"                  NaN  \n",
       "1   \"6.581030434782608\"                  NaN  \n",
       "2   \"6.576357971014493\"  \"6.590465217391304\"  \n",
       "3   \"6.587230434782608\"  \"6.591678260869565\"  \n",
       "4   \"6.586376811594203\"   \"6.59131884057971\"  "
      ]
     },
     "execution_count": 86,
     "metadata": {},
     "output_type": "execute_result"
    }
   ],
   "source": [
    "df = pd.read_csv('datasets/ail_frx.csv')\n",
    "df.head()"
   ]
  },
  {
   "cell_type": "code",
   "execution_count": 87,
   "id": "42882860-358f-4633-abb4-dbc3c1e705ff",
   "metadata": {},
   "outputs": [
    {
     "data": {
      "text/plain": [
       "(11322, 5)"
      ]
     },
     "execution_count": 87,
     "metadata": {},
     "output_type": "execute_result"
    }
   ],
   "source": [
    "df.shape"
   ]
  },
  {
   "cell_type": "code",
   "execution_count": 88,
   "id": "af1ffb5f-5acf-41b2-9fdc-56014faa4675",
   "metadata": {},
   "outputs": [
    {
     "data": {
      "text/html": [
       "<div>\n",
       "<style scoped>\n",
       "    .dataframe tbody tr th:only-of-type {\n",
       "        vertical-align: middle;\n",
       "    }\n",
       "\n",
       "    .dataframe tbody tr th {\n",
       "        vertical-align: top;\n",
       "    }\n",
       "\n",
       "    .dataframe thead th {\n",
       "        text-align: right;\n",
       "    }\n",
       "</style>\n",
       "<table border=\"1\" class=\"dataframe\">\n",
       "  <thead>\n",
       "    <tr style=\"text-align: right;\">\n",
       "      <th></th>\n",
       "      <th>date</th>\n",
       "      <th>open</th>\n",
       "      <th>high</th>\n",
       "      <th>low</th>\n",
       "      <th>close</th>\n",
       "    </tr>\n",
       "  </thead>\n",
       "  <tbody>\n",
       "    <tr>\n",
       "      <th>count</th>\n",
       "      <td>11322</td>\n",
       "      <td>11322</td>\n",
       "      <td>11322</td>\n",
       "      <td>11322</td>\n",
       "      <td>10445</td>\n",
       "    </tr>\n",
       "    <tr>\n",
       "      <th>unique</th>\n",
       "      <td>11322</td>\n",
       "      <td>9689</td>\n",
       "      <td>9648</td>\n",
       "      <td>9790</td>\n",
       "      <td>9054</td>\n",
       "    </tr>\n",
       "    <tr>\n",
       "      <th>top</th>\n",
       "      <td>\"1355342400000\"</td>\n",
       "      <td>\"13.250388405797102\"</td>\n",
       "      <td>\"13.25627391304348\"</td>\n",
       "      <td>\"13.250388405797102\"</td>\n",
       "      <td>\"13.25627391304348\"</td>\n",
       "    </tr>\n",
       "    <tr>\n",
       "      <th>freq</th>\n",
       "      <td>1</td>\n",
       "      <td>14</td>\n",
       "      <td>15</td>\n",
       "      <td>11</td>\n",
       "      <td>14</td>\n",
       "    </tr>\n",
       "  </tbody>\n",
       "</table>\n",
       "</div>"
      ],
      "text/plain": [
       "                   date                  open                 high  \\\n",
       "count             11322                 11322                11322   \n",
       "unique            11322                  9689                 9648   \n",
       "top     \"1355342400000\"  \"13.250388405797102\"  \"13.25627391304348\"   \n",
       "freq                  1                    14                   15   \n",
       "\n",
       "                         low                close  \n",
       "count                  11322                10445  \n",
       "unique                  9790                 9054  \n",
       "top     \"13.250388405797102\"  \"13.25627391304348\"  \n",
       "freq                      11                   14  "
      ]
     },
     "execution_count": 88,
     "metadata": {},
     "output_type": "execute_result"
    }
   ],
   "source": [
    "df.describe()"
   ]
  },
  {
   "cell_type": "code",
   "execution_count": 89,
   "id": "6fe61768-e4b5-482c-9950-0dd07612e2d3",
   "metadata": {},
   "outputs": [
    {
     "name": "stdout",
     "output_type": "stream",
     "text": [
      "<class 'pandas.core.frame.DataFrame'>\n",
      "RangeIndex: 11322 entries, 0 to 11321\n",
      "Data columns (total 5 columns):\n",
      " #   Column  Non-Null Count  Dtype \n",
      "---  ------  --------------  ----- \n",
      " 0   date    11322 non-null  object\n",
      " 1   open    11322 non-null  object\n",
      " 2   high    11322 non-null  object\n",
      " 3   low     11322 non-null  object\n",
      " 4   close   10445 non-null  object\n",
      "dtypes: object(5)\n",
      "memory usage: 442.4+ KB\n"
     ]
    }
   ],
   "source": [
    "df.info()"
   ]
  },
  {
   "cell_type": "markdown",
   "id": "92026540-b140-49b2-aacc-8c6e78035bf0",
   "metadata": {},
   "source": [
    "close sütununda eksik veriler var. Ayrıca veri tiplerinin  float64 olması gerek object değil ! "
   ]
  },
  {
   "cell_type": "code",
   "execution_count": 90,
   "id": "e9f603aa-7977-412b-ae60-60c0e71d0bdf",
   "metadata": {},
   "outputs": [],
   "source": [
    "df['date'] = pd.to_datetime(df['date'].str.strip('\"').astype('int64'), unit='ms')\n",
    "df.set_index('date', inplace=True)  # Tarih sütununu indeks olarak ayarla\n",
    "for column in ['open', 'high', 'low', 'close']:\n",
    "    if df[column].dtype == 'O':\n",
    "        df[column] = df[column].str.strip('\"').astype(float)"
   ]
  },
  {
   "cell_type": "code",
   "execution_count": 91,
   "id": "035999fc-9deb-485f-86d2-74d3751baae8",
   "metadata": {},
   "outputs": [
    {
     "name": "stdout",
     "output_type": "stream",
     "text": [
      "<class 'pandas.core.frame.DataFrame'>\n",
      "DatetimeIndex: 11322 entries, 2012-12-12 20:00:00 to 2014-11-30 21:00:00\n",
      "Data columns (total 4 columns):\n",
      " #   Column  Non-Null Count  Dtype  \n",
      "---  ------  --------------  -----  \n",
      " 0   open    11322 non-null  float64\n",
      " 1   high    11322 non-null  float64\n",
      " 2   low     11322 non-null  float64\n",
      " 3   close   10445 non-null  float64\n",
      "dtypes: float64(4)\n",
      "memory usage: 442.3 KB\n"
     ]
    }
   ],
   "source": [
    "df.info()"
   ]
  },
  {
   "cell_type": "code",
   "execution_count": 92,
   "id": "386e08ee-3433-4a2d-9781-7581426fca15",
   "metadata": {},
   "outputs": [
    {
     "name": "stdout",
     "output_type": "stream",
     "text": [
      "open için: \n",
      "count    11322.000000\n",
      "mean         9.942839\n",
      "std          2.356181\n",
      "min          6.547919\n",
      "5%           6.693412\n",
      "10%          7.497615\n",
      "20%          8.138165\n",
      "30%          8.357375\n",
      "40%          8.439188\n",
      "50%          8.575274\n",
      "60%          9.660867\n",
      "70%         12.103613\n",
      "80%         12.661263\n",
      "90%         13.416135\n",
      "95%         13.795660\n",
      "99%         14.385964\n",
      "max         14.529026\n",
      "Name: open, dtype: float64\n",
      "#############################\n",
      "high için: \n",
      "count    11322.000000\n",
      "mean         9.951800\n",
      "std          2.358256\n",
      "min          6.553041\n",
      "5%           6.698291\n",
      "10%          7.505239\n",
      "20%          8.143035\n",
      "30%          8.362344\n",
      "40%          8.443645\n",
      "50%          8.581092\n",
      "60%          9.671344\n",
      "70%         12.110608\n",
      "80%         12.682720\n",
      "90%         13.428382\n",
      "95%         13.799394\n",
      "99%         14.396525\n",
      "max         14.728325\n",
      "Name: high, dtype: float64\n",
      "#############################\n",
      "low için: \n",
      "count    11322.000000\n",
      "mean         9.932069\n",
      "std          2.352280\n",
      "min          6.538349\n",
      "5%           6.684460\n",
      "10%          7.485220\n",
      "20%          8.130950\n",
      "30%          8.349828\n",
      "40%          8.434112\n",
      "50%          8.570557\n",
      "60%          9.652924\n",
      "70%         12.091352\n",
      "80%         12.643974\n",
      "90%         13.402199\n",
      "95%         13.772956\n",
      "99%         14.376689\n",
      "max         14.524129\n",
      "Name: low, dtype: float64\n",
      "#############################\n",
      "close için: \n",
      "count    10445.000000\n",
      "mean         9.937702\n",
      "std          2.356415\n",
      "min          6.540146\n",
      "5%           6.689566\n",
      "10%          7.495351\n",
      "20%          8.136341\n",
      "30%          8.356576\n",
      "40%          8.437257\n",
      "50%          8.567007\n",
      "60%          9.655296\n",
      "70%         12.101034\n",
      "80%         12.654649\n",
      "90%         13.429119\n",
      "95%         13.798648\n",
      "99%         14.381450\n",
      "max         14.688609\n",
      "Name: close, dtype: float64\n",
      "#############################\n"
     ]
    }
   ],
   "source": [
    "def num_summary(dataframe, numerical_col, plot=False):\n",
    "    quantiles = [0.05, 0.10, 0.20, 0.30, 0.40, 0.50, 0.60, 0.70, 0.80, 0.90, 0.95, 0.99]\n",
    "    print(dataframe[numerical_col].describe(quantiles))\n",
    "\n",
    "    if plot:\n",
    "        dataframe[numerical_col].hist(bins=20)\n",
    "        plt.xlabel(numerical_col)\n",
    "        plt.title(numerical_col)\n",
    "        plt.show(block=True) \n",
    "\n",
    "num_cols = [\"open\",\"high\",\"low\",\"close\"]\n",
    "for col in num_cols:\n",
    "    print(f'{col} için: ')\n",
    "    num_summary(df, col)\n",
    "    print('#############################')"
   ]
  },
  {
   "cell_type": "code",
   "execution_count": 93,
   "id": "fff99260-6c95-47f9-80da-6706703244e3",
   "metadata": {},
   "outputs": [
    {
     "data": {
      "image/png": "[encoded data removed]",
      "text/plain": [
       "<Figure size 1000x800 with 2 Axes>"
      ]
     },
     "metadata": {},
     "output_type": "display_data"
    }
   ],
   "source": [
    "def correlation_matrix(df, cols):\n",
    "    fig = plt.gcf()\n",
    "    fig.set_size_inches(10, 8)\n",
    "    plt.xticks(fontsize=10)\n",
    "    plt.yticks(fontsize=10)\n",
    "    fig = sns.heatmap(df[cols].corr(), annot=True, linewidths=0.5, annot_kws={'size': 12}, linecolor='w', cmap='RdBu')\n",
    "    plt.show(block=True)\n",
    "\n",
    "correlation_matrix(df, num_cols)"
   ]
  },
  {
   "cell_type": "markdown",
   "id": "bde56390-da95-4072-9c23-d51b8dc3f884",
   "metadata": {},
   "source": [
    "# Veri Önişleme & Özellik Mühendisliği "
   ]
  },
  {
   "cell_type": "markdown",
   "id": "67f4b416-fed7-45a3-beac-8a5de0eeffbf",
   "metadata": {},
   "source": [
    "Eksik Değer Analizi "
   ]
  },
  {
   "cell_type": "code",
   "execution_count": 94,
   "id": "4756540f-0c7b-485a-9d16-7e4ce485c20d",
   "metadata": {},
   "outputs": [
    {
     "data": {
      "text/plain": [
       "open     0.000000\n",
       "high     0.000000\n",
       "low      0.000000\n",
       "close    7.745981\n",
       "dtype: float64"
      ]
     },
     "execution_count": 94,
     "metadata": {},
     "output_type": "execute_result"
    }
   ],
   "source": [
    "missing_ratios = df.isnull().mean() * 100\n",
    "missing_ratios"
   ]
  },
  {
   "cell_type": "markdown",
   "id": "badee268-3dc1-4aaa-b460-a29320385daf",
   "metadata": {},
   "source": [
    "11322 close verisinin %7.74 ü eksiktir. "
   ]
  },
  {
   "cell_type": "code",
   "execution_count": 95,
   "id": "0698f9fe-b682-4d63-a2bc-320692f8e941",
   "metadata": {},
   "outputs": [
    {
     "ename": "SyntaxError",
     "evalue": "invalid syntax (3682781649.py, line 1)",
     "output_type": "error",
     "traceback": [
      "\u001b[1;36m  Cell \u001b[1;32mIn[95], line 1\u001b[1;36m\u001b[0m\n\u001b[1;33m    close normal dağılıma uyuyor mu ? uyuyorsa ortalama ile doldurulabilir.\u001b[0m\n\u001b[1;37m          ^\u001b[0m\n\u001b[1;31mSyntaxError\u001b[0m\u001b[1;31m:\u001b[0m invalid syntax\n"
     ]
    }
   ],
   "source": [
    "close normal dağılıma uyuyor mu ? uyuyorsa ortalama ile doldurulabilir."
   ]
  },
  {
   "cell_type": "code",
   "execution_count": 96,
   "id": "985a2bd1-d016-4caa-bd60-d7d09aba8529",
   "metadata": {},
   "outputs": [
    {
     "data": {
      "image/png": "[encoded data removed]",
      "text/plain": [
       "<Figure size 1200x600 with 2 Axes>"
      ]
     },
     "metadata": {},
     "output_type": "display_data"
    },
    {
     "name": "stdout",
     "output_type": "stream",
     "text": [
      "Shapiro-Wilk Testi:\n",
      "Statistics=0.863, p=0.000\n",
      "D'Agostino's K^2 Testi:\n",
      "Statistics=183393.750, p=0.000\n",
      "Örneklem normal dağılıma uygun görünmüyor.\n"
     ]
    },
    {
     "name": "stderr",
     "output_type": "stream",
     "text": [
      "C:\\Users\\yigit_5rkz30x\\AppData\\Local\\Temp\\ipykernel_12056\\2590519624.py:16: UserWarning: scipy.stats.shapiro: For N > 5000, computed p-value may not be accurate. Current N is 10445.\n",
      "  stat, p = shapiro(df['close'].dropna())\n"
     ]
    }
   ],
   "source": [
    "# Histogram\n",
    "plt.figure(figsize=(12, 6))\n",
    "plt.subplot(1, 2, 1)\n",
    "sns.histplot(df['close'].dropna(), kde=True)\n",
    "plt.title('Histogram')\n",
    "\n",
    "# Q-Q Grafiği\n",
    "plt.subplot(1, 2, 2)\n",
    "stats.probplot(df['close'].dropna(), dist=\"norm\", plot=plt)\n",
    "plt.title('Q-Q Plot')\n",
    "\n",
    "plt.tight_layout()\n",
    "plt.show()\n",
    "\n",
    "# Shapiro-Wilk Testi\n",
    "stat, p = shapiro(df['close'].dropna())\n",
    "print('Shapiro-Wilk Testi:')\n",
    "print('Statistics=%.3f, p=%.3f' % (stat, p))\n",
    "\n",
    "# D'Agostino's K^2 Testi\n",
    "stat, p = normaltest(df['close'].dropna())\n",
    "print(\"D'Agostino's K^2 Testi:\")\n",
    "print('Statistics=%.3f, p=%.3f' % (stat, p))\n",
    "\n",
    "# p değerlerine göre değerlendirme\n",
    "if p > 0.05:\n",
    "    print('Örneklem normal dağılıma (Gaussian) uygun görünüyor.')\n",
    "else:\n",
    "    print('Örneklem normal dağılıma uygun görünmüyor.')"
   ]
  },
  {
   "cell_type": "raw",
   "id": "9d160eb1-fc92-413d-8365-412183494176",
   "metadata": {},
   "source": [
    "Eksik değerleri median ile dolduralım."
   ]
  },
  {
   "cell_type": "code",
   "execution_count": 97,
   "id": "3a4ad767-6961-4ca7-ab0a-2c63c5d74424",
   "metadata": {},
   "outputs": [],
   "source": [
    "close_median = df[\"close\"].median()\n",
    "df[\"close\"] = df[\"close\"].fillna(close_median)"
   ]
  },
  {
   "cell_type": "code",
   "execution_count": 98,
   "id": "b774931e-3525-4086-8529-52a5b4bde07e",
   "metadata": {},
   "outputs": [
    {
     "name": "stdout",
     "output_type": "stream",
     "text": [
      "<class 'pandas.core.frame.DataFrame'>\n",
      "DatetimeIndex: 11322 entries, 2012-12-12 20:00:00 to 2014-11-30 21:00:00\n",
      "Data columns (total 4 columns):\n",
      " #   Column  Non-Null Count  Dtype  \n",
      "---  ------  --------------  -----  \n",
      " 0   open    11322 non-null  float64\n",
      " 1   high    11322 non-null  float64\n",
      " 2   low     11322 non-null  float64\n",
      " 3   close   11322 non-null  float64\n",
      "dtypes: float64(4)\n",
      "memory usage: 442.3 KB\n"
     ]
    }
   ],
   "source": [
    "df.info()"
   ]
  },
  {
   "cell_type": "code",
   "execution_count": 99,
   "id": "5174d6d1-e2ad-4bbe-b895-b47f47c88761",
   "metadata": {},
   "outputs": [
    {
     "data": {
      "image/png": "[encoded data removed]",
      "text/plain": [
       "<Figure size 1200x600 with 2 Axes>"
      ]
     },
     "metadata": {},
     "output_type": "display_data"
    }
   ],
   "source": [
    "plt.figure(figsize=(12, 6))\n",
    "plt.subplot(1, 2, 1)\n",
    "df['close'].dropna().plot(kind='hist', title='Before Imputation')\n",
    "plt.subplot(1, 2, 2)\n",
    "df['close'].plot(kind='hist', title='After Imputation')\n",
    "plt.show()"
   ]
  },
  {
   "cell_type": "raw",
   "id": "0e9da1cb-4052-48fb-8552-c6bf9cfc0aa8",
   "metadata": {},
   "source": [
    "Aykırı Değer Analizi"
   ]
  },
  {
   "cell_type": "code",
   "execution_count": 100,
   "id": "f7089906-2c5a-4e8b-8edd-c1038f8ad9bd",
   "metadata": {},
   "outputs": [
    {
     "name": "stdout",
     "output_type": "stream",
     "text": [
      "open (2.4238125000000004, 18.093413949275362)\n",
      "high (2.4240315217391295, 18.110840217391306)\n",
      "low (2.418325724637681, 18.075392391304348)\n",
      "close (2.6549871376811582, 17.829127717391305)\n"
     ]
    }
   ],
   "source": [
    "def outlier_thresholds(dataframe, col_name, q1=0.25, q3=0.75):\n",
    "    quartile1 = dataframe[col_name].quantile(q1)\n",
    "    quartile3 = dataframe[col_name].quantile(q3)\n",
    "    interquantile_range = quartile3 - quartile1\n",
    "    up_limit = quartile3 + 1.5 * interquantile_range\n",
    "    low_limit = quartile1 - 1.5 * interquantile_range\n",
    "    return low_limit, up_limit\n",
    "\n",
    "for col in num_cols:\n",
    "    print(col, outlier_thresholds(df, col))"
   ]
  },
  {
   "cell_type": "code",
   "execution_count": 101,
   "id": "10b67432-0a39-4bcf-aa70-19d2e53f2460",
   "metadata": {},
   "outputs": [
    {
     "name": "stdout",
     "output_type": "stream",
     "text": [
      "False\n",
      "False\n",
      "False\n",
      "False\n"
     ]
    }
   ],
   "source": [
    "def check_outlier(dataframe, col_name, q1=0.25, q3=0.75):\n",
    "    low_limit, up_limit = outlier_thresholds(dataframe, col_name, q1, q3)\n",
    "    if dataframe[(dataframe[col_name] > up_limit) | (dataframe[col_name] < low_limit)].any(axis=None):\n",
    "        return True\n",
    "    else:\n",
    "        return False\n",
    "\n",
    "for col in num_cols:\n",
    "    print(check_outlier(df, col))"
   ]
  },
  {
   "cell_type": "code",
   "execution_count": 102,
   "id": "ef010390-dcfc-44f7-b318-7497e62181fb",
   "metadata": {},
   "outputs": [
    {
     "data": {
      "text/html": [
       "<div>\n",
       "<style scoped>\n",
       "    .dataframe tbody tr th:only-of-type {\n",
       "        vertical-align: middle;\n",
       "    }\n",
       "\n",
       "    .dataframe tbody tr th {\n",
       "        vertical-align: top;\n",
       "    }\n",
       "\n",
       "    .dataframe thead th {\n",
       "        text-align: right;\n",
       "    }\n",
       "</style>\n",
       "<table border=\"1\" class=\"dataframe\">\n",
       "  <thead>\n",
       "    <tr style=\"text-align: right;\">\n",
       "      <th></th>\n",
       "      <th>open</th>\n",
       "      <th>high</th>\n",
       "      <th>low</th>\n",
       "      <th>close</th>\n",
       "    </tr>\n",
       "    <tr>\n",
       "      <th>date</th>\n",
       "      <th></th>\n",
       "      <th></th>\n",
       "      <th></th>\n",
       "      <th></th>\n",
       "    </tr>\n",
       "  </thead>\n",
       "  <tbody>\n",
       "    <tr>\n",
       "      <th>2012-12-12 20:00:00</th>\n",
       "      <td>6.593116</td>\n",
       "      <td>6.594059</td>\n",
       "      <td>6.585433</td>\n",
       "      <td>8.567007</td>\n",
       "    </tr>\n",
       "    <tr>\n",
       "      <th>2012-12-12 21:00:00</th>\n",
       "      <td>6.590061</td>\n",
       "      <td>6.593161</td>\n",
       "      <td>6.581030</td>\n",
       "      <td>8.567007</td>\n",
       "    </tr>\n",
       "    <tr>\n",
       "      <th>2012-12-12 22:00:00</th>\n",
       "      <td>6.591004</td>\n",
       "      <td>6.599406</td>\n",
       "      <td>6.576358</td>\n",
       "      <td>6.590465</td>\n",
       "    </tr>\n",
       "    <tr>\n",
       "      <th>2012-12-12 23:00:00</th>\n",
       "      <td>6.591633</td>\n",
       "      <td>6.594464</td>\n",
       "      <td>6.587230</td>\n",
       "      <td>6.591678</td>\n",
       "    </tr>\n",
       "    <tr>\n",
       "      <th>2012-12-13 00:00:00</th>\n",
       "      <td>6.592172</td>\n",
       "      <td>6.594688</td>\n",
       "      <td>6.586377</td>\n",
       "      <td>6.591319</td>\n",
       "    </tr>\n",
       "  </tbody>\n",
       "</table>\n",
       "</div>"
      ],
      "text/plain": [
       "                         open      high       low     close\n",
       "date                                                       \n",
       "2012-12-12 20:00:00  6.593116  6.594059  6.585433  8.567007\n",
       "2012-12-12 21:00:00  6.590061  6.593161  6.581030  8.567007\n",
       "2012-12-12 22:00:00  6.591004  6.599406  6.576358  6.590465\n",
       "2012-12-12 23:00:00  6.591633  6.594464  6.587230  6.591678\n",
       "2012-12-13 00:00:00  6.592172  6.594688  6.586377  6.591319"
      ]
     },
     "execution_count": 102,
     "metadata": {},
     "output_type": "execute_result"
    }
   ],
   "source": [
    "df.head()"
   ]
  },
  {
   "cell_type": "code",
   "execution_count": 103,
   "id": "04f737ec-14af-44c7-b3d9-fdde13645fb6",
   "metadata": {},
   "outputs": [],
   "source": [
    "# Eğer 'date' DataFrame'in indeksi ise, onu sütun olarak geri alın.\n",
    "if 'date' not in df.columns:\n",
    "    df.reset_index(inplace=True)\n"
   ]
  },
  {
   "cell_type": "code",
   "execution_count": 109,
   "id": "dc881f13-0e18-4478-859d-ebfa1f4b1bac",
   "metadata": {},
   "outputs": [],
   "source": [
    "# 'date' sütununu datetime türüne çevirme\n",
    "df['date'] = pd.to_datetime(df['date'])\n",
    "\n",
    "# Zaman bileşenlerini çıkar\n",
    "df['year'] = df['date'].dt.year\n",
    "df['month'] = df['date'].dt.month\n",
    "df['day'] = df['date'].dt.day\n",
    "df['hour'] = df['date'].dt.hour\n",
    "df['day_of_week'] = df['date'].dt.dayofweek  # Haftanın günü (0=Pazartesi, 6=Pazar)\n",
    "df['is_weekend'] = df['date'].dt.dayofweek >= 5  # Cumartesi veya Pazar ise True döndürür"
   ]
  },
  {
   "cell_type": "code",
   "execution_count": 110,
   "id": "8d93c426-e3be-4585-a8e9-2c916744354f",
   "metadata": {},
   "outputs": [
    {
     "data": {
      "text/html": [
       "<div>\n",
       "<style scoped>\n",
       "    .dataframe tbody tr th:only-of-type {\n",
       "        vertical-align: middle;\n",
       "    }\n",
       "\n",
       "    .dataframe tbody tr th {\n",
       "        vertical-align: top;\n",
       "    }\n",
       "\n",
       "    .dataframe thead th {\n",
       "        text-align: right;\n",
       "    }\n",
       "</style>\n",
       "<table border=\"1\" class=\"dataframe\">\n",
       "  <thead>\n",
       "    <tr style=\"text-align: right;\">\n",
       "      <th></th>\n",
       "      <th>date</th>\n",
       "      <th>open</th>\n",
       "      <th>high</th>\n",
       "      <th>low</th>\n",
       "      <th>close</th>\n",
       "      <th>year</th>\n",
       "      <th>month</th>\n",
       "      <th>day</th>\n",
       "      <th>hour</th>\n",
       "      <th>day_of_week</th>\n",
       "      <th>is_weekend</th>\n",
       "    </tr>\n",
       "  </thead>\n",
       "  <tbody>\n",
       "    <tr>\n",
       "      <th>0</th>\n",
       "      <td>2012-12-12 20:00:00</td>\n",
       "      <td>6.593116</td>\n",
       "      <td>6.594059</td>\n",
       "      <td>6.585433</td>\n",
       "      <td>8.567007</td>\n",
       "      <td>2012</td>\n",
       "      <td>12</td>\n",
       "      <td>12</td>\n",
       "      <td>20</td>\n",
       "      <td>2</td>\n",
       "      <td>False</td>\n",
       "    </tr>\n",
       "    <tr>\n",
       "      <th>1</th>\n",
       "      <td>2012-12-12 21:00:00</td>\n",
       "      <td>6.590061</td>\n",
       "      <td>6.593161</td>\n",
       "      <td>6.581030</td>\n",
       "      <td>8.567007</td>\n",
       "      <td>2012</td>\n",
       "      <td>12</td>\n",
       "      <td>12</td>\n",
       "      <td>21</td>\n",
       "      <td>2</td>\n",
       "      <td>False</td>\n",
       "    </tr>\n",
       "    <tr>\n",
       "      <th>2</th>\n",
       "      <td>2012-12-12 22:00:00</td>\n",
       "      <td>6.591004</td>\n",
       "      <td>6.599406</td>\n",
       "      <td>6.576358</td>\n",
       "      <td>6.590465</td>\n",
       "      <td>2012</td>\n",
       "      <td>12</td>\n",
       "      <td>12</td>\n",
       "      <td>22</td>\n",
       "      <td>2</td>\n",
       "      <td>False</td>\n",
       "    </tr>\n",
       "    <tr>\n",
       "      <th>3</th>\n",
       "      <td>2012-12-12 23:00:00</td>\n",
       "      <td>6.591633</td>\n",
       "      <td>6.594464</td>\n",
       "      <td>6.587230</td>\n",
       "      <td>6.591678</td>\n",
       "      <td>2012</td>\n",
       "      <td>12</td>\n",
       "      <td>12</td>\n",
       "      <td>23</td>\n",
       "      <td>2</td>\n",
       "      <td>False</td>\n",
       "    </tr>\n",
       "    <tr>\n",
       "      <th>4</th>\n",
       "      <td>2012-12-13 00:00:00</td>\n",
       "      <td>6.592172</td>\n",
       "      <td>6.594688</td>\n",
       "      <td>6.586377</td>\n",
       "      <td>6.591319</td>\n",
       "      <td>2012</td>\n",
       "      <td>12</td>\n",
       "      <td>13</td>\n",
       "      <td>0</td>\n",
       "      <td>3</td>\n",
       "      <td>False</td>\n",
       "    </tr>\n",
       "  </tbody>\n",
       "</table>\n",
       "</div>"
      ],
      "text/plain": [
       "                 date      open      high       low     close  year  month  \\\n",
       "0 2012-12-12 20:00:00  6.593116  6.594059  6.585433  8.567007  2012     12   \n",
       "1 2012-12-12 21:00:00  6.590061  6.593161  6.581030  8.567007  2012     12   \n",
       "2 2012-12-12 22:00:00  6.591004  6.599406  6.576358  6.590465  2012     12   \n",
       "3 2012-12-12 23:00:00  6.591633  6.594464  6.587230  6.591678  2012     12   \n",
       "4 2012-12-13 00:00:00  6.592172  6.594688  6.586377  6.591319  2012     12   \n",
       "\n",
       "   day  hour  day_of_week  is_weekend  \n",
       "0   12    20            2       False  \n",
       "1   12    21            2       False  \n",
       "2   12    22            2       False  \n",
       "3   12    23            2       False  \n",
       "4   13     0            3       False  "
      ]
     },
     "execution_count": 110,
     "metadata": {},
     "output_type": "execute_result"
    }
   ],
   "source": [
    "df.head()"
   ]
  },
  {
   "cell_type": "markdown",
   "id": "04cf04f9-2263-42dd-bb9d-78d423e13bea",
   "metadata": {},
   "source": [
    "Desen ve Trend Analizi"
   ]
  },
  {
   "cell_type": "code",
   "execution_count": 112,
   "id": "5c8c65a7-a54d-4a57-94e4-25bc949f123b",
   "metadata": {},
   "outputs": [
    {
     "data": {
      "image/png": "[encoded data removed]",
      "text/plain": [
       "<Figure size 1200x600 with 1 Axes>"
      ]
     },
     "metadata": {},
     "output_type": "display_data"
    },
    {
     "data": {
      "image/png": "[encoded data removed]",
      "text/plain": [
       "<Figure size 1200x600 with 1 Axes>"
      ]
     },
     "metadata": {},
     "output_type": "display_data"
    },
    {
     "name": "stdout",
     "output_type": "stream",
     "text": [
      "                 date     close     lag_1     lag_2\n",
      "2 2012-12-12 22:00:00  6.590465  8.567007  8.567007\n",
      "3 2012-12-12 23:00:00  6.591678  6.590465  8.567007\n",
      "4 2012-12-13 00:00:00  6.591319  6.591678  6.590465\n",
      "5 2012-12-13 01:00:00  6.590465  6.591319  6.591678\n",
      "6 2012-12-13 02:00:00  6.589028  6.590465  6.591319\n"
     ]
    }
   ],
   "source": [
    "# Ay ve haftanın gününe göre 'close' fiyatının ortalamasını hesaplama\n",
    "monthly_avg = df.groupby(['month']).agg({'close': 'mean'}).reset_index()\n",
    "weekly_avg = df.groupby(['day_of_week']).agg({'close': 'mean'}).reset_index()\n",
    "\n",
    "# Ay bazında fiyatların ortalamasını çizdirme\n",
    "plt.figure(figsize=(12, 6))\n",
    "sns.barplot(x='month', y='close', data=monthly_avg)\n",
    "plt.title('Monthly Average of Close Prices')\n",
    "plt.xlabel('Month')\n",
    "plt.ylabel('Average Close Price')\n",
    "plt.show()\n",
    "\n",
    "# Haftanın günü bazında fiyatların ortalamasını çizdirme\n",
    "plt.figure(figsize=(12, 6))\n",
    "sns.barplot(x='day_of_week', y='close', data=weekly_avg)\n",
    "plt.title('Weekly Average of Close Prices')\n",
    "plt.xlabel('Day of the Week')\n",
    "plt.ylabel('Average Close Price')\n",
    "plt.show()\n",
    "\n",
    "# Lag özellikleri oluşturma\n",
    "df['lag_1'] = df['close'].shift(1)  # 1 saat önceki kapanış fiyatı\n",
    "df['lag_2'] = df['close'].shift(2)  # 2 saat önceki kapanış fiyatı\n",
    "\n",
    "# NaN değerleri temizleme\n",
    "df.dropna(subset=['lag_1', 'lag_2'], inplace=True)\n",
    "\n",
    "print(df[['date', 'close', 'lag_1', 'lag_2']].head())"
   ]
  },
  {
   "cell_type": "code",
   "execution_count": 113,
   "id": "a6464d80-24ff-4266-923b-7ae1292856bf",
   "metadata": {
    "scrolled": true
   },
   "outputs": [
    {
     "data": {
      "text/html": [
       "<div>\n",
       "<style scoped>\n",
       "    .dataframe tbody tr th:only-of-type {\n",
       "        vertical-align: middle;\n",
       "    }\n",
       "\n",
       "    .dataframe tbody tr th {\n",
       "        vertical-align: top;\n",
       "    }\n",
       "\n",
       "    .dataframe thead th {\n",
       "        text-align: right;\n",
       "    }\n",
       "</style>\n",
       "<table border=\"1\" class=\"dataframe\">\n",
       "  <thead>\n",
       "    <tr style=\"text-align: right;\">\n",
       "      <th></th>\n",
       "      <th>date</th>\n",
       "      <th>open</th>\n",
       "      <th>high</th>\n",
       "      <th>low</th>\n",
       "      <th>close</th>\n",
       "      <th>year</th>\n",
       "      <th>month</th>\n",
       "      <th>day</th>\n",
       "      <th>hour</th>\n",
       "      <th>day_of_week</th>\n",
       "      <th>is_weekend</th>\n",
       "      <th>lag_1</th>\n",
       "      <th>lag_2</th>\n",
       "    </tr>\n",
       "  </thead>\n",
       "  <tbody>\n",
       "    <tr>\n",
       "      <th>2</th>\n",
       "      <td>2012-12-12 22:00:00</td>\n",
       "      <td>6.591004</td>\n",
       "      <td>6.599406</td>\n",
       "      <td>6.576358</td>\n",
       "      <td>6.590465</td>\n",
       "      <td>2012</td>\n",
       "      <td>12</td>\n",
       "      <td>12</td>\n",
       "      <td>22</td>\n",
       "      <td>2</td>\n",
       "      <td>False</td>\n",
       "      <td>8.567007</td>\n",
       "      <td>8.567007</td>\n",
       "    </tr>\n",
       "    <tr>\n",
       "      <th>3</th>\n",
       "      <td>2012-12-12 23:00:00</td>\n",
       "      <td>6.591633</td>\n",
       "      <td>6.594464</td>\n",
       "      <td>6.587230</td>\n",
       "      <td>6.591678</td>\n",
       "      <td>2012</td>\n",
       "      <td>12</td>\n",
       "      <td>12</td>\n",
       "      <td>23</td>\n",
       "      <td>2</td>\n",
       "      <td>False</td>\n",
       "      <td>6.590465</td>\n",
       "      <td>8.567007</td>\n",
       "    </tr>\n",
       "    <tr>\n",
       "      <th>4</th>\n",
       "      <td>2012-12-13 00:00:00</td>\n",
       "      <td>6.592172</td>\n",
       "      <td>6.594688</td>\n",
       "      <td>6.586377</td>\n",
       "      <td>6.591319</td>\n",
       "      <td>2012</td>\n",
       "      <td>12</td>\n",
       "      <td>13</td>\n",
       "      <td>0</td>\n",
       "      <td>3</td>\n",
       "      <td>False</td>\n",
       "      <td>6.591678</td>\n",
       "      <td>6.590465</td>\n",
       "    </tr>\n",
       "    <tr>\n",
       "      <th>5</th>\n",
       "      <td>2012-12-13 01:00:00</td>\n",
       "      <td>6.591499</td>\n",
       "      <td>6.596800</td>\n",
       "      <td>6.584759</td>\n",
       "      <td>6.590465</td>\n",
       "      <td>2012</td>\n",
       "      <td>12</td>\n",
       "      <td>13</td>\n",
       "      <td>1</td>\n",
       "      <td>3</td>\n",
       "      <td>False</td>\n",
       "      <td>6.591319</td>\n",
       "      <td>6.591678</td>\n",
       "    </tr>\n",
       "    <tr>\n",
       "      <th>6</th>\n",
       "      <td>2012-12-13 02:00:00</td>\n",
       "      <td>6.591319</td>\n",
       "      <td>6.593386</td>\n",
       "      <td>6.585478</td>\n",
       "      <td>6.589028</td>\n",
       "      <td>2012</td>\n",
       "      <td>12</td>\n",
       "      <td>13</td>\n",
       "      <td>2</td>\n",
       "      <td>3</td>\n",
       "      <td>False</td>\n",
       "      <td>6.590465</td>\n",
       "      <td>6.591319</td>\n",
       "    </tr>\n",
       "  </tbody>\n",
       "</table>\n",
       "</div>"
      ],
      "text/plain": [
       "                 date      open      high       low     close  year  month  \\\n",
       "2 2012-12-12 22:00:00  6.591004  6.599406  6.576358  6.590465  2012     12   \n",
       "3 2012-12-12 23:00:00  6.591633  6.594464  6.587230  6.591678  2012     12   \n",
       "4 2012-12-13 00:00:00  6.592172  6.594688  6.586377  6.591319  2012     12   \n",
       "5 2012-12-13 01:00:00  6.591499  6.596800  6.584759  6.590465  2012     12   \n",
       "6 2012-12-13 02:00:00  6.591319  6.593386  6.585478  6.589028  2012     12   \n",
       "\n",
       "   day  hour  day_of_week  is_weekend     lag_1     lag_2  \n",
       "2   12    22            2       False  8.567007  8.567007  \n",
       "3   12    23            2       False  6.590465  8.567007  \n",
       "4   13     0            3       False  6.591678  6.590465  \n",
       "5   13     1            3       False  6.591319  6.591678  \n",
       "6   13     2            3       False  6.590465  6.591319  "
      ]
     },
     "execution_count": 113,
     "metadata": {},
     "output_type": "execute_result"
    }
   ],
   "source": [
    "df.head()"
   ]
  },
  {
   "cell_type": "raw",
   "id": "df38c739-1721-4638-b567-203ae5c6cc40",
   "metadata": {},
   "source": [
    "lag_1: close sütununun bir önceki zaman diliminin değerini içerir. Örneğin, bir saatlik veri için lag_1, bir saat öncesinin kapanış fiyatını gösterir.\n",
    "nlag_2: close sütununun iki önceki zaman diliminin değerini içerir."
   ]
  },
  {
   "cell_type": "code",
   "execution_count": 118,
   "id": "7c108a29-6ab9-4b42-93e0-c0215aec3711",
   "metadata": {},
   "outputs": [],
   "source": [
    "num_cols = ['open', 'high', 'low', 'close', 'lag_1', 'lag_2']"
   ]
  },
  {
   "cell_type": "code",
   "execution_count": 124,
   "id": "c6a04019-225c-416a-9f2f-2d8b985972c7",
   "metadata": {},
   "outputs": [],
   "source": [
    "from sklearn.preprocessing import StandardScaler\n",
    "\n",
    "# Standartlaştırma\n",
    "X_scaled = StandardScaler().fit_transform(df[num_cols])\n",
    "df[num_cols] = pd.DataFrame(X_scaled, columns=df[num_cols].columns)"
   ]
  },
  {
   "cell_type": "code",
   "execution_count": 125,
   "id": "c928be8a-4f71-4a75-9bd6-9594a99bb07e",
   "metadata": {},
   "outputs": [
    {
     "data": {
      "text/html": [
       "<div>\n",
       "<style scoped>\n",
       "    .dataframe tbody tr th:only-of-type {\n",
       "        vertical-align: middle;\n",
       "    }\n",
       "\n",
       "    .dataframe tbody tr th {\n",
       "        vertical-align: top;\n",
       "    }\n",
       "\n",
       "    .dataframe thead th {\n",
       "        text-align: right;\n",
       "    }\n",
       "</style>\n",
       "<table border=\"1\" class=\"dataframe\">\n",
       "  <thead>\n",
       "    <tr style=\"text-align: right;\">\n",
       "      <th></th>\n",
       "      <th>date</th>\n",
       "      <th>open</th>\n",
       "      <th>high</th>\n",
       "      <th>low</th>\n",
       "      <th>close</th>\n",
       "      <th>year</th>\n",
       "      <th>month</th>\n",
       "      <th>day</th>\n",
       "      <th>hour</th>\n",
       "      <th>day_of_week</th>\n",
       "      <th>is_weekend</th>\n",
       "      <th>lag_1</th>\n",
       "      <th>lag_2</th>\n",
       "    </tr>\n",
       "  </thead>\n",
       "  <tbody>\n",
       "    <tr>\n",
       "      <th>2</th>\n",
       "      <td>2012-12-12 22:00:00</td>\n",
       "      <td>-1.423261</td>\n",
       "      <td>-1.424933</td>\n",
       "      <td>-1.423526</td>\n",
       "      <td>-1.414673</td>\n",
       "      <td>2012</td>\n",
       "      <td>12</td>\n",
       "      <td>12</td>\n",
       "      <td>22</td>\n",
       "      <td>2</td>\n",
       "      <td>False</td>\n",
       "      <td>-1.413878</td>\n",
       "      <td>-1.413337</td>\n",
       "    </tr>\n",
       "    <tr>\n",
       "      <th>3</th>\n",
       "      <td>2012-12-12 23:00:00</td>\n",
       "      <td>-1.423566</td>\n",
       "      <td>-1.424705</td>\n",
       "      <td>-1.423965</td>\n",
       "      <td>-1.414477</td>\n",
       "      <td>2012</td>\n",
       "      <td>12</td>\n",
       "      <td>12</td>\n",
       "      <td>23</td>\n",
       "      <td>2</td>\n",
       "      <td>False</td>\n",
       "      <td>-1.414505</td>\n",
       "      <td>-1.413709</td>\n",
       "    </tr>\n",
       "    <tr>\n",
       "      <th>4</th>\n",
       "      <td>2012-12-13 00:00:00</td>\n",
       "      <td>-1.424024</td>\n",
       "      <td>-1.422304</td>\n",
       "      <td>-1.422838</td>\n",
       "      <td>-1.410950</td>\n",
       "      <td>2012</td>\n",
       "      <td>12</td>\n",
       "      <td>13</td>\n",
       "      <td>0</td>\n",
       "      <td>3</td>\n",
       "      <td>False</td>\n",
       "      <td>-1.414309</td>\n",
       "      <td>-1.414337</td>\n",
       "    </tr>\n",
       "    <tr>\n",
       "      <th>5</th>\n",
       "      <td>2012-12-13 01:00:00</td>\n",
       "      <td>-1.420801</td>\n",
       "      <td>-1.422075</td>\n",
       "      <td>-1.418979</td>\n",
       "      <td>-1.410676</td>\n",
       "      <td>2012</td>\n",
       "      <td>12</td>\n",
       "      <td>13</td>\n",
       "      <td>1</td>\n",
       "      <td>3</td>\n",
       "      <td>False</td>\n",
       "      <td>-1.410781</td>\n",
       "      <td>-1.414141</td>\n",
       "    </tr>\n",
       "    <tr>\n",
       "      <th>6</th>\n",
       "      <td>2012-12-13 02:00:00</td>\n",
       "      <td>-1.420114</td>\n",
       "      <td>-1.421675</td>\n",
       "      <td>-1.418731</td>\n",
       "      <td>-1.410754</td>\n",
       "      <td>2012</td>\n",
       "      <td>12</td>\n",
       "      <td>13</td>\n",
       "      <td>2</td>\n",
       "      <td>3</td>\n",
       "      <td>False</td>\n",
       "      <td>-1.410507</td>\n",
       "      <td>-1.410612</td>\n",
       "    </tr>\n",
       "  </tbody>\n",
       "</table>\n",
       "</div>"
      ],
      "text/plain": [
       "                 date      open      high       low     close  year  month  \\\n",
       "2 2012-12-12 22:00:00 -1.423261 -1.424933 -1.423526 -1.414673  2012     12   \n",
       "3 2012-12-12 23:00:00 -1.423566 -1.424705 -1.423965 -1.414477  2012     12   \n",
       "4 2012-12-13 00:00:00 -1.424024 -1.422304 -1.422838 -1.410950  2012     12   \n",
       "5 2012-12-13 01:00:00 -1.420801 -1.422075 -1.418979 -1.410676  2012     12   \n",
       "6 2012-12-13 02:00:00 -1.420114 -1.421675 -1.418731 -1.410754  2012     12   \n",
       "\n",
       "   day  hour  day_of_week  is_weekend     lag_1     lag_2  \n",
       "2   12    22            2       False -1.413878 -1.413337  \n",
       "3   12    23            2       False -1.414505 -1.413709  \n",
       "4   13     0            3       False -1.414309 -1.414337  \n",
       "5   13     1            3       False -1.410781 -1.414141  \n",
       "6   13     2            3       False -1.410507 -1.410612  "
      ]
     },
     "execution_count": 125,
     "metadata": {},
     "output_type": "execute_result"
    }
   ],
   "source": [
    "df.head()"
   ]
  },
  {
   "cell_type": "raw",
   "id": "4d91365e-75c7-4546-a643-a65556e50a4a",
   "metadata": {},
   "source": [
    "Not: modellemeden önce month day hour day of week is weekend bunları kontrol et modele dahil edicek misin etmyecek misin ? \n",
    "kurulacak modele göre değişkenlik gösterecektir. Lütfen doğru seçim yapınız modelinize göre :) "
   ]
  },
  {
   "cell_type": "markdown",
   "id": "ac8bd96d-32bf-48c9-996d-ab999f047d28",
   "metadata": {},
   "source": [
    "# Modelleme"
   ]
  },
  {
   "cell_type": "code",
   "execution_count": null,
   "id": "5c53200c-8aad-4e31-9088-771df3c36b42",
   "metadata": {},
   "outputs": [],
   "source": []
  }
 ],
 "metadata": {
  "kernelspec": {
   "display_name": "Python 3 (ipykernel)",
   "language": "python",
   "name": "python3"
  },
  "language_info": {
   "codemirror_mode": {
    "name": "ipython",
    "version": 3
   },
   "file_extension": ".py",
   "mimetype": "text/x-python",
   "name": "python",
   "nbconvert_exporter": "python",
   "pygments_lexer": "ipython3",
   "version": "3.10.14"
  }
 },
 "nbformat": 4,
 "nbformat_minor": 5
}
